{
 "cells": [
  {
   "cell_type": "code",
   "execution_count": 1,
   "metadata": {
    "colab": {
     "base_uri": "https://localhost:8080/"
    },
    "executionInfo": {
     "elapsed": 4654,
     "status": "ok",
     "timestamp": 1628459610183,
     "user": {
      "displayName": "Muhammad Hamza Chippa",
      "photoUrl": "https://lh3.googleusercontent.com/a-/AOh14GgElx1Cc1a79VpouQssUoFpC3MMPCz34jOCi1zG=s64",
      "userId": "01490394795955800955"
     },
     "user_tz": -300
    },
    "id": "eP0exhSwtXNo",
    "outputId": "158aa8aa-e474-478b-f695-55c9c8e81c37"
   },
   "outputs": [
    {
     "name": "stdout",
     "output_type": "stream",
     "text": [
      "Collecting fastai==2.5\n",
      "  Downloading fastai-2.5.0-py3-none-any.whl (188 kB)\n",
      "\u001b[?25l\r",
      "\u001b[K     |█▊                              | 10 kB 29.4 MB/s eta 0:00:01\r",
      "\u001b[K     |███▌                            | 20 kB 34.7 MB/s eta 0:00:01\r",
      "\u001b[K     |█████▏                          | 30 kB 36.1 MB/s eta 0:00:01\r",
      "\u001b[K     |███████                         | 40 kB 24.6 MB/s eta 0:00:01\r",
      "\u001b[K     |████████▊                       | 51 kB 7.8 MB/s eta 0:00:01\r",
      "\u001b[K     |██████████▍                     | 61 kB 8.3 MB/s eta 0:00:01\r",
      "\u001b[K     |████████████▏                   | 71 kB 7.3 MB/s eta 0:00:01\r",
      "\u001b[K     |█████████████▉                  | 81 kB 8.1 MB/s eta 0:00:01\r",
      "\u001b[K     |███████████████▋                | 92 kB 8.3 MB/s eta 0:00:01\r",
      "\u001b[K     |█████████████████▍              | 102 kB 7.1 MB/s eta 0:00:01\r",
      "\u001b[K     |███████████████████             | 112 kB 7.1 MB/s eta 0:00:01\r",
      "\u001b[K     |████████████████████▉           | 122 kB 7.1 MB/s eta 0:00:01\r",
      "\u001b[K     |██████████████████████▋         | 133 kB 7.1 MB/s eta 0:00:01\r",
      "\u001b[K     |████████████████████████▎       | 143 kB 7.1 MB/s eta 0:00:01\r",
      "\u001b[K     |██████████████████████████      | 153 kB 7.1 MB/s eta 0:00:01\r",
      "\u001b[K     |███████████████████████████▊    | 163 kB 7.1 MB/s eta 0:00:01\r",
      "\u001b[K     |█████████████████████████████▌  | 174 kB 7.1 MB/s eta 0:00:01\r",
      "\u001b[K     |███████████████████████████████▎| 184 kB 7.1 MB/s eta 0:00:01\r",
      "\u001b[K     |████████████████████████████████| 188 kB 7.1 MB/s \n",
      "\u001b[?25hRequirement already satisfied: scikit-learn in /usr/local/lib/python3.7/dist-packages (from fastai==2.5) (0.22.2.post1)\n",
      "Collecting fastcore<1.4,>=1.3.8\n",
      "  Downloading fastcore-1.3.25-py3-none-any.whl (54 kB)\n",
      "\u001b[K     |████████████████████████████████| 54 kB 3.3 MB/s \n",
      "\u001b[?25hRequirement already satisfied: pillow>6.0.0 in /usr/local/lib/python3.7/dist-packages (from fastai==2.5) (7.1.2)\n",
      "Requirement already satisfied: scipy in /usr/local/lib/python3.7/dist-packages (from fastai==2.5) (1.4.1)\n",
      "Requirement already satisfied: torch<1.10,>=1.7.0 in /usr/local/lib/python3.7/dist-packages (from fastai==2.5) (1.9.0+cu102)\n",
      "Requirement already satisfied: pandas in /usr/local/lib/python3.7/dist-packages (from fastai==2.5) (1.1.5)\n",
      "Requirement already satisfied: torchvision>=0.8.2 in /usr/local/lib/python3.7/dist-packages (from fastai==2.5) (0.10.0+cu102)\n",
      "Requirement already satisfied: fastprogress>=0.2.4 in /usr/local/lib/python3.7/dist-packages (from fastai==2.5) (1.0.0)\n",
      "Requirement already satisfied: matplotlib in /usr/local/lib/python3.7/dist-packages (from fastai==2.5) (3.2.2)\n",
      "Collecting fastdownload\n",
      "  Downloading fastdownload-0.0.3-py3-none-any.whl (12 kB)\n",
      "Requirement already satisfied: packaging in /usr/local/lib/python3.7/dist-packages (from fastai==2.5) (21.0)\n",
      "Requirement already satisfied: requests in /usr/local/lib/python3.7/dist-packages (from fastai==2.5) (2.23.0)\n",
      "Requirement already satisfied: pyyaml in /usr/local/lib/python3.7/dist-packages (from fastai==2.5) (3.13)\n",
      "Requirement already satisfied: spacy<4 in /usr/local/lib/python3.7/dist-packages (from fastai==2.5) (2.2.4)\n",
      "Requirement already satisfied: pip in /usr/local/lib/python3.7/dist-packages (from fastai==2.5) (21.1.3)\n",
      "Requirement already satisfied: numpy in /usr/local/lib/python3.7/dist-packages (from fastprogress>=0.2.4->fastai==2.5) (1.19.5)\n",
      "Requirement already satisfied: setuptools in /usr/local/lib/python3.7/dist-packages (from spacy<4->fastai==2.5) (57.2.0)\n",
      "Requirement already satisfied: murmurhash<1.1.0,>=0.28.0 in /usr/local/lib/python3.7/dist-packages (from spacy<4->fastai==2.5) (1.0.5)\n",
      "Requirement already satisfied: catalogue<1.1.0,>=0.0.7 in /usr/local/lib/python3.7/dist-packages (from spacy<4->fastai==2.5) (1.0.0)\n",
      "Requirement already satisfied: cymem<2.1.0,>=2.0.2 in /usr/local/lib/python3.7/dist-packages (from spacy<4->fastai==2.5) (2.0.5)\n",
      "Requirement already satisfied: wasabi<1.1.0,>=0.4.0 in /usr/local/lib/python3.7/dist-packages (from spacy<4->fastai==2.5) (0.8.2)\n",
      "Requirement already satisfied: srsly<1.1.0,>=1.0.2 in /usr/local/lib/python3.7/dist-packages (from spacy<4->fastai==2.5) (1.0.5)\n",
      "Requirement already satisfied: tqdm<5.0.0,>=4.38.0 in /usr/local/lib/python3.7/dist-packages (from spacy<4->fastai==2.5) (4.41.1)\n",
      "Requirement already satisfied: plac<1.2.0,>=0.9.6 in /usr/local/lib/python3.7/dist-packages (from spacy<4->fastai==2.5) (1.1.3)\n",
      "Requirement already satisfied: preshed<3.1.0,>=3.0.2 in /usr/local/lib/python3.7/dist-packages (from spacy<4->fastai==2.5) (3.0.5)\n",
      "Requirement already satisfied: blis<0.5.0,>=0.4.0 in /usr/local/lib/python3.7/dist-packages (from spacy<4->fastai==2.5) (0.4.1)\n",
      "Requirement already satisfied: thinc==7.4.0 in /usr/local/lib/python3.7/dist-packages (from spacy<4->fastai==2.5) (7.4.0)\n",
      "Requirement already satisfied: importlib-metadata>=0.20 in /usr/local/lib/python3.7/dist-packages (from catalogue<1.1.0,>=0.0.7->spacy<4->fastai==2.5) (4.6.1)\n",
      "Requirement already satisfied: typing-extensions>=3.6.4 in /usr/local/lib/python3.7/dist-packages (from importlib-metadata>=0.20->catalogue<1.1.0,>=0.0.7->spacy<4->fastai==2.5) (3.7.4.3)\n",
      "Requirement already satisfied: zipp>=0.5 in /usr/local/lib/python3.7/dist-packages (from importlib-metadata>=0.20->catalogue<1.1.0,>=0.0.7->spacy<4->fastai==2.5) (3.5.0)\n",
      "Requirement already satisfied: certifi>=2017.4.17 in /usr/local/lib/python3.7/dist-packages (from requests->fastai==2.5) (2021.5.30)\n",
      "Requirement already satisfied: idna<3,>=2.5 in /usr/local/lib/python3.7/dist-packages (from requests->fastai==2.5) (2.10)\n",
      "Requirement already satisfied: urllib3!=1.25.0,!=1.25.1,<1.26,>=1.21.1 in /usr/local/lib/python3.7/dist-packages (from requests->fastai==2.5) (1.24.3)\n",
      "Requirement already satisfied: chardet<4,>=3.0.2 in /usr/local/lib/python3.7/dist-packages (from requests->fastai==2.5) (3.0.4)\n",
      "Requirement already satisfied: cycler>=0.10 in /usr/local/lib/python3.7/dist-packages (from matplotlib->fastai==2.5) (0.10.0)\n",
      "Requirement already satisfied: kiwisolver>=1.0.1 in /usr/local/lib/python3.7/dist-packages (from matplotlib->fastai==2.5) (1.3.1)\n",
      "Requirement already satisfied: python-dateutil>=2.1 in /usr/local/lib/python3.7/dist-packages (from matplotlib->fastai==2.5) (2.8.1)\n",
      "Requirement already satisfied: pyparsing!=2.0.4,!=2.1.2,!=2.1.6,>=2.0.1 in /usr/local/lib/python3.7/dist-packages (from matplotlib->fastai==2.5) (2.4.7)\n",
      "Requirement already satisfied: six in /usr/local/lib/python3.7/dist-packages (from cycler>=0.10->matplotlib->fastai==2.5) (1.15.0)\n",
      "Requirement already satisfied: pytz>=2017.2 in /usr/local/lib/python3.7/dist-packages (from pandas->fastai==2.5) (2018.9)\n",
      "Requirement already satisfied: joblib>=0.11 in /usr/local/lib/python3.7/dist-packages (from scikit-learn->fastai==2.5) (1.0.1)\n",
      "Installing collected packages: fastcore, fastdownload, fastai\n",
      "  Attempting uninstall: fastai\n",
      "    Found existing installation: fastai 1.0.61\n",
      "    Uninstalling fastai-1.0.61:\n",
      "      Successfully uninstalled fastai-1.0.61\n",
      "Successfully installed fastai-2.5.0 fastcore-1.3.25 fastdownload-0.0.3\n"
     ]
    }
   ],
   "source": [
    "!pip install fastai==2.5"
   ]
  },
  {
   "cell_type": "code",
   "execution_count": 1,
   "metadata": {
    "executionInfo": {
     "elapsed": 5816,
     "status": "ok",
     "timestamp": 1628459620340,
     "user": {
      "displayName": "Muhammad Hamza Chippa",
      "photoUrl": "https://lh3.googleusercontent.com/a-/AOh14GgElx1Cc1a79VpouQssUoFpC3MMPCz34jOCi1zG=s64",
      "userId": "01490394795955800955"
     },
     "user_tz": -300
    },
    "id": "ekUzuKf2wZvl"
   },
   "outputs": [
    {
     "name": "stderr",
     "output_type": "stream",
     "text": [
      "Global seed set to 42\n"
     ]
    }
   ],
   "source": [
    "# import libraries\n",
    "import fastai\n",
    "from fastai import *\n",
    "from fastai.text import * \n",
    "import pandas as pd\n",
    "import numpy as np\n",
    "from functools import partial\n",
    "import io\n",
    "import os\n",
    "from fastai.text.all import *\n",
    "import spacy"
   ]
  },
  {
   "cell_type": "code",
   "execution_count": 2,
   "metadata": {
    "colab": {
     "base_uri": "https://localhost:8080/",
     "height": 35
    },
    "executionInfo": {
     "elapsed": 42,
     "status": "ok",
     "timestamp": 1628459620366,
     "user": {
      "displayName": "Muhammad Hamza Chippa",
      "photoUrl": "https://lh3.googleusercontent.com/a-/AOh14GgElx1Cc1a79VpouQssUoFpC3MMPCz34jOCi1zG=s64",
      "userId": "01490394795955800955"
     },
     "user_tz": -300
    },
    "id": "-s8ORhLgwb7-",
    "outputId": "15557065-54f5-4aff-9549-0b5d41a5a21d"
   },
   "outputs": [
    {
     "data": {
      "text/plain": [
       "'2.5.0'"
      ]
     },
     "execution_count": 2,
     "metadata": {},
     "output_type": "execute_result"
    }
   ],
   "source": [
    "fastai.__version__"
   ]
  },
  {
   "cell_type": "code",
   "execution_count": 13,
   "metadata": {
    "colab": {
     "base_uri": "https://localhost:8080/",
     "height": 255
    },
    "executionInfo": {
     "elapsed": 341,
     "status": "ok",
     "timestamp": 1628459887232,
     "user": {
      "displayName": "Muhammad Hamza Chippa",
      "photoUrl": "https://lh3.googleusercontent.com/a-/AOh14GgElx1Cc1a79VpouQssUoFpC3MMPCz34jOCi1zG=s64",
      "userId": "01490394795955800955"
     },
     "user_tz": -300
    },
    "id": "Lg1hs5iiwdLT",
    "outputId": "b589a2dc-ae20-4abb-ac72-d947bc452901"
   },
   "outputs": [
    {
     "data": {
      "text/html": [
       "<div>\n",
       "<style scoped>\n",
       "    .dataframe tbody tr th:only-of-type {\n",
       "        vertical-align: middle;\n",
       "    }\n",
       "\n",
       "    .dataframe tbody tr th {\n",
       "        vertical-align: top;\n",
       "    }\n",
       "\n",
       "    .dataframe thead th {\n",
       "        text-align: right;\n",
       "    }\n",
       "</style>\n",
       "<table border=\"1\" class=\"dataframe\">\n",
       "  <thead>\n",
       "    <tr style=\"text-align: right;\">\n",
       "      <th></th>\n",
       "      <th>class</th>\n",
       "      <th>posts</th>\n",
       "    </tr>\n",
       "  </thead>\n",
       "  <tbody>\n",
       "    <tr>\n",
       "      <th>0</th>\n",
       "      <td>sports</td>\n",
       "      <td>Abdi Nageeye pushes his best friend Bashir Abdi during the Olympic marathon to join him for a medal. Two somali born athletes with this unprecedented achievement</td>\n",
       "    </tr>\n",
       "    <tr>\n",
       "      <th>1</th>\n",
       "      <td>sports</td>\n",
       "      <td>USA secures the most Olympic Medals, to include gold.</td>\n",
       "    </tr>\n",
       "    <tr>\n",
       "      <th>2</th>\n",
       "      <td>sports</td>\n",
       "      <td>Lionel Messi gets a standing ovation at his Barcelona farewell press conference.</td>\n",
       "    </tr>\n",
       "    <tr>\n",
       "      <th>3</th>\n",
       "      <td>sports</td>\n",
       "      <td>1993: Javier Sotomayor establishes a high jump record that still stands today (2,45 m/8 feet and half an inch)</td>\n",
       "    </tr>\n",
       "    <tr>\n",
       "      <th>4</th>\n",
       "      <td>sports</td>\n",
       "      <td>Morhad Amdouni (France) deliberately knocks over all the water for his fellow contesters in the marathon</td>\n",
       "    </tr>\n",
       "  </tbody>\n",
       "</table>\n",
       "</div>"
      ],
      "text/plain": [
       "    class  \\\n",
       "0  sports   \n",
       "1  sports   \n",
       "2  sports   \n",
       "3  sports   \n",
       "4  sports   \n",
       "\n",
       "                                                                                                                                                                posts  \n",
       "0  Abdi Nageeye pushes his best friend Bashir Abdi during the Olympic marathon to join him for a medal. Two somali born athletes with this unprecedented achievement   \n",
       "1                                                                                                               USA secures the most Olympic Medals, to include gold.  \n",
       "2                                                                                    Lionel Messi gets a standing ovation at his Barcelona farewell press conference.  \n",
       "3                                                      1993: Javier Sotomayor establishes a high jump record that still stands today (2,45 m/8 feet and half an inch)  \n",
       "4                                                            Morhad Amdouni (France) deliberately knocks over all the water for his fellow contesters in the marathon  "
      ]
     },
     "execution_count": 13,
     "metadata": {},
     "output_type": "execute_result"
    }
   ],
   "source": [
    "posts = pd.read_csv('Data Scrapping Reddit/Reddit.csv')\n",
    "posts.head()"
   ]
  },
  {
   "cell_type": "code",
   "execution_count": 11,
   "metadata": {
    "colab": {
     "base_uri": "https://localhost:8080/"
    },
    "executionInfo": {
     "elapsed": 337,
     "status": "ok",
     "timestamp": 1628459924311,
     "user": {
      "displayName": "Muhammad Hamza Chippa",
      "photoUrl": "https://lh3.googleusercontent.com/a-/AOh14GgElx1Cc1a79VpouQssUoFpC3MMPCz34jOCi1zG=s64",
      "userId": "01490394795955800955"
     },
     "user_tz": -300
    },
    "id": "KxFkYutdwxvO",
    "outputId": "bc8cd503-a9c8-4ccc-ac4b-88f815199ec2"
   },
   "outputs": [
    {
     "data": {
      "text/plain": [
       "politics      785\n",
       "technology    607\n",
       "sports        443\n",
       "Name: class, dtype: int64"
      ]
     },
     "execution_count": 11,
     "metadata": {
      "tags": []
     },
     "output_type": "execute_result"
    }
   ],
   "source": [
    "posts['class'].value_counts()"
   ]
  },
  {
   "cell_type": "markdown",
   "metadata": {
    "id": "ktHX07TKxuUI"
   },
   "source": [
    "## Data Preprocessing"
   ]
  },
  {
   "cell_type": "code",
   "execution_count": 13,
   "metadata": {
    "colab": {
     "base_uri": "https://localhost:8080/"
    },
    "executionInfo": {
     "elapsed": 881,
     "status": "ok",
     "timestamp": 1628460039072,
     "user": {
      "displayName": "Muhammad Hamza Chippa",
      "photoUrl": "https://lh3.googleusercontent.com/a-/AOh14GgElx1Cc1a79VpouQssUoFpC3MMPCz34jOCi1zG=s64",
      "userId": "01490394795955800955"
     },
     "user_tz": -300
    },
    "id": "RuXmXIOmef_i",
    "outputId": "ec66ae66-fa4b-488d-a389-432e6cab2675"
   },
   "outputs": [
    {
     "name": "stdout",
     "output_type": "stream",
     "text": [
      "[nltk_data] Downloading package stopwords to /root/nltk_data...\n",
      "[nltk_data]   Unzipping corpora/stopwords.zip.\n"
     ]
    }
   ],
   "source": [
    "# removing stopwords\n",
    "import nltk\n",
    "nltk.download('stopwords')\n",
    "\n",
    "from nltk.corpus import stopwords \n",
    "stop_words = stopwords.words('english')"
   ]
  },
  {
   "cell_type": "code",
   "execution_count": 15,
   "metadata": {
    "executionInfo": {
     "elapsed": 319,
     "status": "ok",
     "timestamp": 1628460055140,
     "user": {
      "displayName": "Muhammad Hamza Chippa",
      "photoUrl": "https://lh3.googleusercontent.com/a-/AOh14GgElx1Cc1a79VpouQssUoFpC3MMPCz34jOCi1zG=s64",
      "userId": "01490394795955800955"
     },
     "user_tz": -300
    },
    "id": "KbQO0M4Mw8g_"
   },
   "outputs": [],
   "source": [
    "# tokenization \n",
    "tokenized_doc = posts['posts'].apply(lambda x: x.split())\n",
    "\n",
    "# remove stop-words \n",
    "tokenized_doc = tokenized_doc.apply(lambda x: [item for item in x if item not in stop_words])\n",
    "\n",
    "# de-tokenization \n",
    "detokenized_doc = [] \n",
    "for i in range(len(posts)):\n",
    "    t = ' '.join(tokenized_doc[i]) \n",
    "    detokenized_doc.append(t) \n",
    "\n",
    "posts['posts'] = detokenized_doc"
   ]
  },
  {
   "cell_type": "markdown",
   "metadata": {
    "id": "KNofMnsxyKfh"
   },
   "source": [
    "## Training Language Model"
   ]
  },
  {
   "cell_type": "code",
   "execution_count": 16,
   "metadata": {
    "colab": {
     "base_uri": "https://localhost:8080/",
     "height": 71
    },
    "executionInfo": {
     "elapsed": 2577,
     "status": "ok",
     "timestamp": 1628460121316,
     "user": {
      "displayName": "Muhammad Hamza Chippa",
      "photoUrl": "https://lh3.googleusercontent.com/a-/AOh14GgElx1Cc1a79VpouQssUoFpC3MMPCz34jOCi1zG=s64",
      "userId": "01490394795955800955"
     },
     "user_tz": -300
    },
    "id": "iyIO3hxuyCA9",
    "outputId": "b4d1c6f2-f37b-4280-b1b5-06e145248b86"
   },
   "outputs": [
    {
     "data": {
      "text/html": [],
      "text/plain": [
       "<IPython.core.display.HTML object>"
      ]
     },
     "metadata": {
      "tags": []
     },
     "output_type": "display_data"
    },
    {
     "name": "stderr",
     "output_type": "stream",
     "text": [
      "/usr/local/lib/python3.7/dist-packages/numpy/core/_asarray.py:83: VisibleDeprecationWarning: Creating an ndarray from ragged nested sequences (which is a list-or-tuple of lists-or-tuples-or ndarrays with different lengths or shapes) is deprecated. If you meant to do this, you must specify 'dtype=object' when creating the ndarray\n",
      "  return array(a, dtype, copy=False, order=order)\n"
     ]
    }
   ],
   "source": [
    "data_lm = TextDataLoaders.from_df(posts , path = \".\" , text_col='posts',\n",
    "                               label_col = 'class' , valid_pct = 0.2, is_lm = True)"
   ]
  },
  {
   "cell_type": "code",
   "execution_count": 17,
   "metadata": {
    "colab": {
     "base_uri": "https://localhost:8080/",
     "height": 652
    },
    "executionInfo": {
     "elapsed": 336,
     "status": "ok",
     "timestamp": 1628460126936,
     "user": {
      "displayName": "Muhammad Hamza Chippa",
      "photoUrl": "https://lh3.googleusercontent.com/a-/AOh14GgElx1Cc1a79VpouQssUoFpC3MMPCz34jOCi1zG=s64",
      "userId": "01490394795955800955"
     },
     "user_tz": -300
    },
    "id": "8G_mbHWSyXCi",
    "outputId": "80178e12-bb7c-4fd1-dd9b-5955779cef91"
   },
   "outputs": [
    {
     "data": {
      "text/html": [
       "<table border=\"1\" class=\"dataframe\">\n",
       "  <thead>\n",
       "    <tr style=\"text-align: right;\">\n",
       "      <th></th>\n",
       "      <th>text</th>\n",
       "      <th>text_</th>\n",
       "    </tr>\n",
       "  </thead>\n",
       "  <tbody>\n",
       "    <tr>\n",
       "      <th>0</th>\n",
       "      <td>xxbos xxmaj xxunk enters ' major xxunk ' $ xxunk xxunk xxunk strong debut xxbos xxmaj biden administration extends student loan payment pause xxbos ‘ one xxmaj xxunk xxmaj conspiracy xxmaj theory ’ : xxmaj judge xxmaj xxunk xxmaj sanctions xxmaj lawyers xxmaj who xxmaj used ‘ bad xxmaj xxunk ’ xxmaj lawsuit xxmaj xxunk xxmaj trump ’s xxmaj election xxmaj loss xxmaj everyone xxmaj facebook xxmaj dominion xxbos xxup xxunk :</td>\n",
       "      <td>xxmaj xxunk enters ' major xxunk ' $ xxunk xxunk xxunk strong debut xxbos xxmaj biden administration extends student loan payment pause xxbos ‘ one xxmaj xxunk xxmaj conspiracy xxmaj theory ’ : xxmaj judge xxmaj xxunk xxmaj sanctions xxmaj lawyers xxmaj who xxmaj used ‘ bad xxmaj xxunk ’ xxmaj lawsuit xxmaj xxunk xxmaj trump ’s xxmaj election xxmaj loss xxmaj everyone xxmaj facebook xxmaj dominion xxbos xxup xxunk : spacex</td>\n",
       "    </tr>\n",
       "    <tr>\n",
       "      <th>1</th>\n",
       "      <td>xxmaj privacy xxbos xxmaj here ’s xxmaj google xxmaj drive “ security update ” message means xxbos xxmaj xxunk xxmaj xxunk xxmaj xxunk sets new xxmaj world xxmaj record women 's xxunk jump xxunk m win gold xxbos xxmaj taiwan gives xxup tsmc green light xxunk chip plant xxbos xxmaj xxunk reviews xxmaj xxunk new xxunk autonomous driving technology xxbos xxmaj xxunk xxmaj xxunk xxunk xxmaj xxunk ’s xxmaj xxunk xxmaj tour</td>\n",
       "      <td>privacy xxbos xxmaj here ’s xxmaj google xxmaj drive “ security update ” message means xxbos xxmaj xxunk xxmaj xxunk xxmaj xxunk sets new xxmaj world xxmaj record women 's xxunk jump xxunk m win gold xxbos xxmaj taiwan gives xxup tsmc green light xxunk chip plant xxbos xxmaj xxunk reviews xxmaj xxunk new xxunk autonomous driving technology xxbos xxmaj xxunk xxmaj xxunk xxunk xxmaj xxunk ’s xxmaj xxunk xxmaj tour xxunk</td>\n",
       "    </tr>\n",
       "    <tr>\n",
       "      <th>2</th>\n",
       "      <td>xxbos xxmaj americans xxmaj xxunk xxmaj pandemic xxmaj xxunk xxmaj leaders xxmaj xxunk xxmaj with xxmaj xxunk xxmaj virus xxbos xxmaj fauci xxunk xxup covid vaccines get full xxup ok xxup fda within weeks xxbos xxmaj house xxmaj democrats push introduce xxmaj john xxmaj lewis voting rights bill within weeks xxbos xxmaj republicans xxunk xxmaj xxunk know - nothing xxmaj party xxbos ' no turning back : ' xxmaj biden signs order</td>\n",
       "      <td>xxmaj americans xxmaj xxunk xxmaj pandemic xxmaj xxunk xxmaj leaders xxmaj xxunk xxmaj with xxmaj xxunk xxmaj virus xxbos xxmaj fauci xxunk xxup covid vaccines get full xxup ok xxup fda within weeks xxbos xxmaj house xxmaj democrats push introduce xxmaj john xxmaj lewis voting rights bill within weeks xxbos xxmaj republicans xxunk xxmaj xxunk know - nothing xxmaj party xxbos ' no turning back : ' xxmaj biden signs order targeting</td>\n",
       "    </tr>\n",
       "  </tbody>\n",
       "</table>"
      ],
      "text/plain": [
       "<IPython.core.display.HTML object>"
      ]
     },
     "metadata": {
      "tags": []
     },
     "output_type": "display_data"
    }
   ],
   "source": [
    "data_lm.show_batch(max_n=3)"
   ]
  },
  {
   "cell_type": "code",
   "execution_count": 18,
   "metadata": {
    "colab": {
     "base_uri": "https://localhost:8080/",
     "height": 37
    },
    "executionInfo": {
     "elapsed": 6211,
     "status": "ok",
     "timestamp": 1628460187157,
     "user": {
      "displayName": "Muhammad Hamza Chippa",
      "photoUrl": "https://lh3.googleusercontent.com/a-/AOh14GgElx1Cc1a79VpouQssUoFpC3MMPCz34jOCi1zG=s64",
      "userId": "01490394795955800955"
     },
     "user_tz": -300
    },
    "id": "ujNVjiaqyY9z",
    "outputId": "790458de-3243-40a2-d95f-f23facf87468"
   },
   "outputs": [
    {
     "data": {
      "text/html": [
       "\n",
       "    <div>\n",
       "        <style>\n",
       "            /* Turns off some styling */\n",
       "            progress {\n",
       "                /* gets rid of default border in Firefox and Opera. */\n",
       "                border: none;\n",
       "                /* Needs to be in here for Safari polyfill so background images work as expected. */\n",
       "                background-size: auto;\n",
       "            }\n",
       "            .progress-bar-interrupted, .progress-bar-interrupted::-webkit-progress-bar {\n",
       "                background: #F44336;\n",
       "            }\n",
       "        </style>\n",
       "      <progress value='105070592' class='' max='105067061' style='width:300px; height:20px; vertical-align: middle;'></progress>\n",
       "      100.00% [105070592/105067061 00:02<00:00]\n",
       "    </div>\n",
       "    "
      ],
      "text/plain": [
       "<IPython.core.display.HTML object>"
      ]
     },
     "metadata": {
      "tags": []
     },
     "output_type": "display_data"
    }
   ],
   "source": [
    "# training language model \n",
    "learn_lm = language_model_learner(data_lm , AWD_LSTM , drop_mult= 0.5 ,metrics=[accuracy])"
   ]
  },
  {
   "cell_type": "code",
   "execution_count": 19,
   "metadata": {
    "colab": {
     "base_uri": "https://localhost:8080/",
     "height": 300
    },
    "executionInfo": {
     "elapsed": 436477,
     "status": "ok",
     "timestamp": 1628460634997,
     "user": {
      "displayName": "Muhammad Hamza Chippa",
      "photoUrl": "https://lh3.googleusercontent.com/a-/AOh14GgElx1Cc1a79VpouQssUoFpC3MMPCz34jOCi1zG=s64",
      "userId": "01490394795955800955"
     },
     "user_tz": -300
    },
    "id": "eHgle5RGymOq",
    "outputId": "15db89b5-3674-4187-fe71-fb01965c07a2"
   },
   "outputs": [
    {
     "data": {
      "text/html": [],
      "text/plain": [
       "<IPython.core.display.HTML object>"
      ]
     },
     "metadata": {
      "tags": []
     },
     "output_type": "display_data"
    },
    {
     "data": {
      "text/plain": [
       "SuggestedLRs(valley=0.0063095735386013985)"
      ]
     },
     "execution_count": 19,
     "metadata": {
      "tags": []
     },
     "output_type": "execute_result"
    },
    {
     "data": {
      "image/png": "[encoded data removed]",
      "text/plain": [
       "<Figure size 432x288 with 1 Axes>"
      ]
     },
     "metadata": {
      "needs_background": "light",
      "tags": []
     },
     "output_type": "display_data"
    }
   ],
   "source": [
    "## takes time don't execute it\n",
    "learn_lm.lr_find()"
   ]
  },
  {
   "cell_type": "code",
   "execution_count": 20,
   "metadata": {
    "colab": {
     "base_uri": "https://localhost:8080/",
     "height": 80
    },
    "executionInfo": {
     "elapsed": 29889,
     "status": "ok",
     "timestamp": 1628460701169,
     "user": {
      "displayName": "Muhammad Hamza Chippa",
      "photoUrl": "https://lh3.googleusercontent.com/a-/AOh14GgElx1Cc1a79VpouQssUoFpC3MMPCz34jOCi1zG=s64",
      "userId": "01490394795955800955"
     },
     "user_tz": -300
    },
    "id": "QsC0zhxxyqhQ",
    "outputId": "35f55482-8b79-464b-cdf2-49bf764f14d5"
   },
   "outputs": [
    {
     "data": {
      "text/html": [
       "<table border=\"1\" class=\"dataframe\">\n",
       "  <thead>\n",
       "    <tr style=\"text-align: left;\">\n",
       "      <th>epoch</th>\n",
       "      <th>train_loss</th>\n",
       "      <th>valid_loss</th>\n",
       "      <th>accuracy</th>\n",
       "      <th>time</th>\n",
       "    </tr>\n",
       "  </thead>\n",
       "  <tbody>\n",
       "    <tr>\n",
       "      <td>0</td>\n",
       "      <td>5.336798</td>\n",
       "      <td>4.874354</td>\n",
       "      <td>0.315755</td>\n",
       "      <td>00:29</td>\n",
       "    </tr>\n",
       "  </tbody>\n",
       "</table>"
      ],
      "text/plain": [
       "<IPython.core.display.HTML object>"
      ]
     },
     "metadata": {
      "tags": []
     },
     "output_type": "display_data"
    }
   ],
   "source": [
    "learn_lm.fit_one_cycle(1,1e-2)"
   ]
  },
  {
   "cell_type": "code",
   "execution_count": 21,
   "metadata": {
    "colab": {
     "base_uri": "https://localhost:8080/",
     "height": 422
    },
    "executionInfo": {
     "elapsed": 518934,
     "status": "ok",
     "timestamp": 1628461287685,
     "user": {
      "displayName": "Muhammad Hamza Chippa",
      "photoUrl": "https://lh3.googleusercontent.com/a-/AOh14GgElx1Cc1a79VpouQssUoFpC3MMPCz34jOCi1zG=s64",
      "userId": "01490394795955800955"
     },
     "user_tz": -300
    },
    "id": "14z2rArP0d8M",
    "outputId": "8d337e8e-ff5e-42f3-eeb9-c744eb14645d"
   },
   "outputs": [
    {
     "data": {
      "text/html": [
       "<table border=\"1\" class=\"dataframe\">\n",
       "  <thead>\n",
       "    <tr style=\"text-align: left;\">\n",
       "      <th>epoch</th>\n",
       "      <th>train_loss</th>\n",
       "      <th>valid_loss</th>\n",
       "      <th>accuracy</th>\n",
       "      <th>time</th>\n",
       "    </tr>\n",
       "  </thead>\n",
       "  <tbody>\n",
       "    <tr>\n",
       "      <td>0</td>\n",
       "      <td>4.840614</td>\n",
       "      <td>4.535913</td>\n",
       "      <td>0.325222</td>\n",
       "      <td>00:29</td>\n",
       "    </tr>\n",
       "  </tbody>\n",
       "</table>"
      ],
      "text/plain": [
       "<IPython.core.display.HTML object>"
      ]
     },
     "metadata": {
      "tags": []
     },
     "output_type": "display_data"
    },
    {
     "data": {
      "text/html": [
       "<table border=\"1\" class=\"dataframe\">\n",
       "  <thead>\n",
       "    <tr style=\"text-align: left;\">\n",
       "      <th>epoch</th>\n",
       "      <th>train_loss</th>\n",
       "      <th>valid_loss</th>\n",
       "      <th>accuracy</th>\n",
       "      <th>time</th>\n",
       "    </tr>\n",
       "  </thead>\n",
       "  <tbody>\n",
       "    <tr>\n",
       "      <td>0</td>\n",
       "      <td>4.362096</td>\n",
       "      <td>4.196042</td>\n",
       "      <td>0.335802</td>\n",
       "      <td>00:49</td>\n",
       "    </tr>\n",
       "    <tr>\n",
       "      <td>1</td>\n",
       "      <td>4.180623</td>\n",
       "      <td>3.954342</td>\n",
       "      <td>0.356310</td>\n",
       "      <td>00:48</td>\n",
       "    </tr>\n",
       "    <tr>\n",
       "      <td>2</td>\n",
       "      <td>4.020665</td>\n",
       "      <td>3.787952</td>\n",
       "      <td>0.369765</td>\n",
       "      <td>00:49</td>\n",
       "    </tr>\n",
       "    <tr>\n",
       "      <td>3</td>\n",
       "      <td>3.869412</td>\n",
       "      <td>3.708294</td>\n",
       "      <td>0.381375</td>\n",
       "      <td>00:48</td>\n",
       "    </tr>\n",
       "    <tr>\n",
       "      <td>4</td>\n",
       "      <td>3.724890</td>\n",
       "      <td>3.657208</td>\n",
       "      <td>0.384006</td>\n",
       "      <td>00:48</td>\n",
       "    </tr>\n",
       "    <tr>\n",
       "      <td>5</td>\n",
       "      <td>3.593218</td>\n",
       "      <td>3.648454</td>\n",
       "      <td>0.380398</td>\n",
       "      <td>00:49</td>\n",
       "    </tr>\n",
       "    <tr>\n",
       "      <td>6</td>\n",
       "      <td>3.471951</td>\n",
       "      <td>3.626125</td>\n",
       "      <td>0.383653</td>\n",
       "      <td>00:48</td>\n",
       "    </tr>\n",
       "    <tr>\n",
       "      <td>7</td>\n",
       "      <td>3.364694</td>\n",
       "      <td>3.620962</td>\n",
       "      <td>0.383057</td>\n",
       "      <td>00:48</td>\n",
       "    </tr>\n",
       "    <tr>\n",
       "      <td>8</td>\n",
       "      <td>3.295199</td>\n",
       "      <td>3.626010</td>\n",
       "      <td>0.381185</td>\n",
       "      <td>00:49</td>\n",
       "    </tr>\n",
       "    <tr>\n",
       "      <td>9</td>\n",
       "      <td>3.219085</td>\n",
       "      <td>3.623068</td>\n",
       "      <td>0.381510</td>\n",
       "      <td>00:49</td>\n",
       "    </tr>\n",
       "  </tbody>\n",
       "</table>"
      ],
      "text/plain": [
       "<IPython.core.display.HTML object>"
      ]
     },
     "metadata": {
      "tags": []
     },
     "output_type": "display_data"
    }
   ],
   "source": [
    "learn_lm.fine_tune(10, 1e-2)"
   ]
  },
  {
   "cell_type": "code",
   "execution_count": 22,
   "metadata": {
    "executionInfo": {
     "elapsed": 337,
     "status": "ok",
     "timestamp": 1628461308963,
     "user": {
      "displayName": "Muhammad Hamza Chippa",
      "photoUrl": "https://lh3.googleusercontent.com/a-/AOh14GgElx1Cc1a79VpouQssUoFpC3MMPCz34jOCi1zG=s64",
      "userId": "01490394795955800955"
     },
     "user_tz": -300
    },
    "id": "olxvdS_101u_"
   },
   "outputs": [],
   "source": [
    "learn_lm.save_encoder('finetuned')"
   ]
  },
  {
   "cell_type": "code",
   "execution_count": 41,
   "metadata": {
    "executionInfo": {
     "elapsed": 338,
     "status": "ok",
     "timestamp": 1628463381057,
     "user": {
      "displayName": "Muhammad Hamza Chippa",
      "photoUrl": "https://lh3.googleusercontent.com/a-/AOh14GgElx1Cc1a79VpouQssUoFpC3MMPCz34jOCi1zG=s64",
      "userId": "01490394795955800955"
     },
     "user_tz": -300
    },
    "id": "TYiY48Vr25hT"
   },
   "outputs": [],
   "source": [
    "learn_lm.export()"
   ]
  },
  {
   "cell_type": "code",
   "execution_count": 26,
   "metadata": {
    "colab": {
     "base_uri": "https://localhost:8080/",
     "height": 17
    },
    "executionInfo": {
     "elapsed": 1626,
     "status": "ok",
     "timestamp": 1628461471967,
     "user": {
      "displayName": "Muhammad Hamza Chippa",
      "photoUrl": "https://lh3.googleusercontent.com/a-/AOh14GgElx1Cc1a79VpouQssUoFpC3MMPCz34jOCi1zG=s64",
      "userId": "01490394795955800955"
     },
     "user_tz": -300
    },
    "id": "mNoLg7rz28N7",
    "outputId": "7ce2511a-3cd6-4d25-dd00-05beb44630a7"
   },
   "outputs": [
    {
     "data": {
      "text/html": [],
      "text/plain": [
       "<IPython.core.display.HTML object>"
      ]
     },
     "metadata": {
      "tags": []
     },
     "output_type": "display_data"
    }
   ],
   "source": [
    "TEXT = \"Blockchain\"\n",
    "N_WORDS = 15\n",
    "N_SENTENCES = 1\n",
    "preds = [learn_lm.predict(TEXT, N_WORDS, temperature=0.75) \n",
    "         for _ in range(N_SENTENCES)]"
   ]
  },
  {
   "cell_type": "code",
   "execution_count": 27,
   "metadata": {
    "colab": {
     "base_uri": "https://localhost:8080/"
    },
    "executionInfo": {
     "elapsed": 337,
     "status": "ok",
     "timestamp": 1628461478797,
     "user": {
      "displayName": "Muhammad Hamza Chippa",
      "photoUrl": "https://lh3.googleusercontent.com/a-/AOh14GgElx1Cc1a79VpouQssUoFpC3MMPCz34jOCi1zG=s64",
      "userId": "01490394795955800955"
     },
     "user_tz": -300
    },
    "id": "ZiW5eNkZ3Y05",
    "outputId": "196a4cdc-72d7-44f4-b7f1-6a64e57aaa9e"
   },
   "outputs": [
    {
     "name": "stdout",
     "output_type": "stream",
     "text": [
      "Xxunk Newsom Recall Xxfake Newsom Recall Poll Cuomo\n"
     ]
    }
   ],
   "source": [
    "print(\"\\n\".join(preds))"
   ]
  },
  {
   "cell_type": "markdown",
   "metadata": {
    "id": "h17hCb1B3llA"
   },
   "source": [
    "## Training a Classifier "
   ]
  },
  {
   "cell_type": "code",
   "execution_count": 28,
   "metadata": {
    "colab": {
     "base_uri": "https://localhost:8080/",
     "height": 71
    },
    "executionInfo": {
     "elapsed": 3609,
     "status": "ok",
     "timestamp": 1628461635629,
     "user": {
      "displayName": "Muhammad Hamza Chippa",
      "photoUrl": "https://lh3.googleusercontent.com/a-/AOh14GgElx1Cc1a79VpouQssUoFpC3MMPCz34jOCi1zG=s64",
      "userId": "01490394795955800955"
     },
     "user_tz": -300
    },
    "id": "KcWMD4563aSC",
    "outputId": "79586dcc-1220-4ad8-c5d8-75b313544976"
   },
   "outputs": [
    {
     "data": {
      "text/html": [],
      "text/plain": [
       "<IPython.core.display.HTML object>"
      ]
     },
     "metadata": {
      "tags": []
     },
     "output_type": "display_data"
    },
    {
     "name": "stderr",
     "output_type": "stream",
     "text": [
      "/usr/local/lib/python3.7/dist-packages/numpy/core/_asarray.py:83: VisibleDeprecationWarning: Creating an ndarray from ragged nested sequences (which is a list-or-tuple of lists-or-tuples-or ndarrays with different lengths or shapes) is deprecated. If you meant to do this, you must specify 'dtype=object' when creating the ndarray\n",
      "  return array(a, dtype, copy=False, order=order)\n"
     ]
    }
   ],
   "source": [
    "data_class = TextDataLoaders.from_df(posts , path = \".\" , text_col='posts',\n",
    "                               label_col = 'class' , valid_pct = 0.2 , text_vocab=data_lm.vocab)"
   ]
  },
  {
   "cell_type": "code",
   "execution_count": 29,
   "metadata": {
    "colab": {
     "base_uri": "https://localhost:8080/",
     "height": 193
    },
    "executionInfo": {
     "elapsed": 337,
     "status": "ok",
     "timestamp": 1628461655510,
     "user": {
      "displayName": "Muhammad Hamza Chippa",
      "photoUrl": "https://lh3.googleusercontent.com/a-/AOh14GgElx1Cc1a79VpouQssUoFpC3MMPCz34jOCi1zG=s64",
      "userId": "01490394795955800955"
     },
     "user_tz": -300
    },
    "id": "VxDbJZVX4Ifc",
    "outputId": "8d52b37d-d5b7-4cc0-9f8d-dba7043d5e02"
   },
   "outputs": [
    {
     "data": {
      "text/html": [
       "<table border=\"1\" class=\"dataframe\">\n",
       "  <thead>\n",
       "    <tr style=\"text-align: right;\">\n",
       "      <th></th>\n",
       "      <th>text</th>\n",
       "      <th>category</th>\n",
       "    </tr>\n",
       "  </thead>\n",
       "  <tbody>\n",
       "    <tr>\n",
       "      <th>0</th>\n",
       "      <td>xxbos xxmaj saudi xxmaj xxunk xxmaj sports , xxmaj xxunk xxmaj xxunk xxmaj xxunk xxmaj xxunk xxmaj xxunk , xxunk xxmaj saudi xxunk xxunk , xxmaj xxunk xxmaj xxunk ( silver medal ) , 5 million xxmaj saudi xxunk ( $ 1 , xxrep 3 3 , xxunk ) xxunk finals xxunk home first xxmaj saudi medal xxmaj tokyo 2020 , xxunk medal history .</td>\n",
       "      <td>sports</td>\n",
       "    </tr>\n",
       "    <tr>\n",
       "      <th>1</th>\n",
       "      <td>xxbos xxmaj tech xxmaj giant xxmaj took $ xxunk xxmaj million xxmaj from xxmaj trump xxmaj the xxmaj day xxmaj after xxmaj jan . 6 xxmaj to xxmaj send xxmaj more xxmaj of xxmaj his xxmaj xxunk | xxmaj xxunk later xxunk violent attack xxmaj capitol . xxmaj but it ’s xxunk xxmaj trump xxunk money xxunk lies “ xxunk ” election .</td>\n",
       "      <td>politics</td>\n",
       "    </tr>\n",
       "    <tr>\n",
       "      <th>2</th>\n",
       "      <td>xxbos xxmaj uber , xxmaj lyft xxmaj introduce xxmaj xxunk 22 xxmaj clone xxmaj undermine xxmaj labor xxmaj law xxmaj in xxmaj xxunk - xxmaj uber , xxmaj lyft , doordash , xxmaj xxunk xxunk past year xxunk introduce xxmaj xxunk 22 xxunk legislation . xxmaj this first ballot xxunk since xxmaj california ’s last year .</td>\n",
       "      <td>technology</td>\n",
       "    </tr>\n",
       "  </tbody>\n",
       "</table>"
      ],
      "text/plain": [
       "<IPython.core.display.HTML object>"
      ]
     },
     "metadata": {
      "tags": []
     },
     "output_type": "display_data"
    }
   ],
   "source": [
    "data_class.show_batch(max_n=3)"
   ]
  },
  {
   "cell_type": "code",
   "execution_count": 30,
   "metadata": {
    "colab": {
     "base_uri": "https://localhost:8080/"
    },
    "executionInfo": {
     "elapsed": 910,
     "status": "ok",
     "timestamp": 1628461675271,
     "user": {
      "displayName": "Muhammad Hamza Chippa",
      "photoUrl": "https://lh3.googleusercontent.com/a-/AOh14GgElx1Cc1a79VpouQssUoFpC3MMPCz34jOCi1zG=s64",
      "userId": "01490394795955800955"
     },
     "user_tz": -300
    },
    "id": "JYBCsHzM4OJM",
    "outputId": "8db588fb-7354-4e53-8aaf-526e6036f5aa"
   },
   "outputs": [
    {
     "name": "stderr",
     "output_type": "stream",
     "text": [
      "/usr/local/lib/python3.7/dist-packages/torch/cuda/amp/autocast_mode.py:120: UserWarning: torch.cuda.amp.autocast only affects CUDA ops, but CUDA is not available.  Disabling.\n",
      "  warnings.warn(\"torch.cuda.amp.autocast only affects CUDA ops, but CUDA is not available.  Disabling.\")\n"
     ]
    }
   ],
   "source": [
    "learn_class = text_classifier_learner(data_class, AWD_LSTM, metrics=[accuracy]).to_fp16()"
   ]
  },
  {
   "cell_type": "code",
   "execution_count": 31,
   "metadata": {
    "colab": {
     "base_uri": "https://localhost:8080/"
    },
    "executionInfo": {
     "elapsed": 324,
     "status": "ok",
     "timestamp": 1628461690399,
     "user": {
      "displayName": "Muhammad Hamza Chippa",
      "photoUrl": "https://lh3.googleusercontent.com/a-/AOh14GgElx1Cc1a79VpouQssUoFpC3MMPCz34jOCi1zG=s64",
      "userId": "01490394795955800955"
     },
     "user_tz": -300
    },
    "id": "Qmnw_p5Q4S04",
    "outputId": "b17435c8-7d91-4a7a-a329-dee1926c4277"
   },
   "outputs": [
    {
     "data": {
      "text/plain": [
       "<fastai.text.learner.TextLearner at 0x7fd21ba4da50>"
      ]
     },
     "execution_count": 31,
     "metadata": {
      "tags": []
     },
     "output_type": "execute_result"
    }
   ],
   "source": [
    "learn_class.load_encoder('finetuned')"
   ]
  },
  {
   "cell_type": "code",
   "execution_count": 32,
   "metadata": {
    "colab": {
     "base_uri": "https://localhost:8080/",
     "height": 114
    },
    "executionInfo": {
     "elapsed": 23296,
     "status": "ok",
     "timestamp": 1628461724717,
     "user": {
      "displayName": "Muhammad Hamza Chippa",
      "photoUrl": "https://lh3.googleusercontent.com/a-/AOh14GgElx1Cc1a79VpouQssUoFpC3MMPCz34jOCi1zG=s64",
      "userId": "01490394795955800955"
     },
     "user_tz": -300
    },
    "id": "LKW8swsd4WmV",
    "outputId": "4895248b-9c6c-4dda-e8ba-091f3dcdf4f6"
   },
   "outputs": [
    {
     "name": "stderr",
     "output_type": "stream",
     "text": [
      "/usr/local/lib/python3.7/dist-packages/torch/cuda/amp/grad_scaler.py:115: UserWarning: torch.cuda.amp.GradScaler is enabled, but CUDA is not available.  Disabling.\n",
      "  warnings.warn(\"torch.cuda.amp.GradScaler is enabled, but CUDA is not available.  Disabling.\")\n"
     ]
    },
    {
     "data": {
      "text/html": [
       "<table border=\"1\" class=\"dataframe\">\n",
       "  <thead>\n",
       "    <tr style=\"text-align: left;\">\n",
       "      <th>epoch</th>\n",
       "      <th>train_loss</th>\n",
       "      <th>valid_loss</th>\n",
       "      <th>accuracy</th>\n",
       "      <th>time</th>\n",
       "    </tr>\n",
       "  </thead>\n",
       "  <tbody>\n",
       "    <tr>\n",
       "      <td>0</td>\n",
       "      <td>0.501935</td>\n",
       "      <td>0.403257</td>\n",
       "      <td>0.841962</td>\n",
       "      <td>00:22</td>\n",
       "    </tr>\n",
       "  </tbody>\n",
       "</table>"
      ],
      "text/plain": [
       "<IPython.core.display.HTML object>"
      ]
     },
     "metadata": {
      "tags": []
     },
     "output_type": "display_data"
    }
   ],
   "source": [
    "learn_class.fit_one_cycle(1, 1e-2)"
   ]
  },
  {
   "cell_type": "code",
   "execution_count": 33,
   "metadata": {
    "colab": {
     "base_uri": "https://localhost:8080/",
     "height": 114
    },
    "executionInfo": {
     "elapsed": 25710,
     "status": "ok",
     "timestamp": 1628461831743,
     "user": {
      "displayName": "Muhammad Hamza Chippa",
      "photoUrl": "https://lh3.googleusercontent.com/a-/AOh14GgElx1Cc1a79VpouQssUoFpC3MMPCz34jOCi1zG=s64",
      "userId": "01490394795955800955"
     },
     "user_tz": -300
    },
    "id": "Zxj4AWmw4Zb8",
    "outputId": "84abde75-d42d-4483-9f39-13edc9928156"
   },
   "outputs": [
    {
     "name": "stderr",
     "output_type": "stream",
     "text": [
      "/usr/local/lib/python3.7/dist-packages/torch/cuda/amp/grad_scaler.py:115: UserWarning: torch.cuda.amp.GradScaler is enabled, but CUDA is not available.  Disabling.\n",
      "  warnings.warn(\"torch.cuda.amp.GradScaler is enabled, but CUDA is not available.  Disabling.\")\n"
     ]
    },
    {
     "data": {
      "text/html": [
       "<table border=\"1\" class=\"dataframe\">\n",
       "  <thead>\n",
       "    <tr style=\"text-align: left;\">\n",
       "      <th>epoch</th>\n",
       "      <th>train_loss</th>\n",
       "      <th>valid_loss</th>\n",
       "      <th>accuracy</th>\n",
       "      <th>time</th>\n",
       "    </tr>\n",
       "  </thead>\n",
       "  <tbody>\n",
       "    <tr>\n",
       "      <td>0</td>\n",
       "      <td>0.441471</td>\n",
       "      <td>0.322887</td>\n",
       "      <td>0.893733</td>\n",
       "      <td>00:25</td>\n",
       "    </tr>\n",
       "  </tbody>\n",
       "</table>"
      ],
      "text/plain": [
       "<IPython.core.display.HTML object>"
      ]
     },
     "metadata": {
      "tags": []
     },
     "output_type": "display_data"
    }
   ],
   "source": [
    "learn_class.freeze_to(-2)\n",
    "learn_class.fit_one_cycle(1, slice(1e-3/(2.6**4),1e-2))"
   ]
  },
  {
   "cell_type": "code",
   "execution_count": 34,
   "metadata": {
    "colab": {
     "base_uri": "https://localhost:8080/",
     "height": 114
    },
    "executionInfo": {
     "elapsed": 41875,
     "status": "ok",
     "timestamp": 1628461913333,
     "user": {
      "displayName": "Muhammad Hamza Chippa",
      "photoUrl": "https://lh3.googleusercontent.com/a-/AOh14GgElx1Cc1a79VpouQssUoFpC3MMPCz34jOCi1zG=s64",
      "userId": "01490394795955800955"
     },
     "user_tz": -300
    },
    "id": "FrGTqrqb4y-o",
    "outputId": "1c4a6934-cd9f-469c-8c19-f78b3ff02c22"
   },
   "outputs": [
    {
     "name": "stderr",
     "output_type": "stream",
     "text": [
      "/usr/local/lib/python3.7/dist-packages/torch/cuda/amp/grad_scaler.py:115: UserWarning: torch.cuda.amp.GradScaler is enabled, but CUDA is not available.  Disabling.\n",
      "  warnings.warn(\"torch.cuda.amp.GradScaler is enabled, but CUDA is not available.  Disabling.\")\n"
     ]
    },
    {
     "data": {
      "text/html": [
       "<table border=\"1\" class=\"dataframe\">\n",
       "  <thead>\n",
       "    <tr style=\"text-align: left;\">\n",
       "      <th>epoch</th>\n",
       "      <th>train_loss</th>\n",
       "      <th>valid_loss</th>\n",
       "      <th>accuracy</th>\n",
       "      <th>time</th>\n",
       "    </tr>\n",
       "  </thead>\n",
       "  <tbody>\n",
       "    <tr>\n",
       "      <td>0</td>\n",
       "      <td>0.410553</td>\n",
       "      <td>0.390006</td>\n",
       "      <td>0.866485</td>\n",
       "      <td>00:41</td>\n",
       "    </tr>\n",
       "  </tbody>\n",
       "</table>"
      ],
      "text/plain": [
       "<IPython.core.display.HTML object>"
      ]
     },
     "metadata": {
      "tags": []
     },
     "output_type": "display_data"
    }
   ],
   "source": [
    "learn_class.freeze_to(-3)\n",
    "learn_class.fit_one_cycle(1, slice(5e-3/(2.6**4),1e-2))"
   ]
  },
  {
   "cell_type": "code",
   "execution_count": 35,
   "metadata": {
    "colab": {
     "base_uri": "https://localhost:8080/",
     "height": 393
    },
    "executionInfo": {
     "elapsed": 586838,
     "status": "ok",
     "timestamp": 1628462553430,
     "user": {
      "displayName": "Muhammad Hamza Chippa",
      "photoUrl": "https://lh3.googleusercontent.com/a-/AOh14GgElx1Cc1a79VpouQssUoFpC3MMPCz34jOCi1zG=s64",
      "userId": "01490394795955800955"
     },
     "user_tz": -300
    },
    "id": "u9QTGgD65ChT",
    "outputId": "59f4dce3-c1e0-49e8-b05c-e2222b1b6506"
   },
   "outputs": [
    {
     "name": "stderr",
     "output_type": "stream",
     "text": [
      "/usr/local/lib/python3.7/dist-packages/torch/cuda/amp/grad_scaler.py:115: UserWarning: torch.cuda.amp.GradScaler is enabled, but CUDA is not available.  Disabling.\n",
      "  warnings.warn(\"torch.cuda.amp.GradScaler is enabled, but CUDA is not available.  Disabling.\")\n"
     ]
    },
    {
     "data": {
      "text/html": [
       "<table border=\"1\" class=\"dataframe\">\n",
       "  <thead>\n",
       "    <tr style=\"text-align: left;\">\n",
       "      <th>epoch</th>\n",
       "      <th>train_loss</th>\n",
       "      <th>valid_loss</th>\n",
       "      <th>accuracy</th>\n",
       "      <th>time</th>\n",
       "    </tr>\n",
       "  </thead>\n",
       "  <tbody>\n",
       "    <tr>\n",
       "      <td>0</td>\n",
       "      <td>0.293488</td>\n",
       "      <td>0.269727</td>\n",
       "      <td>0.901907</td>\n",
       "      <td>00:58</td>\n",
       "    </tr>\n",
       "    <tr>\n",
       "      <td>1</td>\n",
       "      <td>0.278827</td>\n",
       "      <td>0.286877</td>\n",
       "      <td>0.901907</td>\n",
       "      <td>00:58</td>\n",
       "    </tr>\n",
       "    <tr>\n",
       "      <td>2</td>\n",
       "      <td>0.248235</td>\n",
       "      <td>0.623785</td>\n",
       "      <td>0.877384</td>\n",
       "      <td>00:58</td>\n",
       "    </tr>\n",
       "    <tr>\n",
       "      <td>3</td>\n",
       "      <td>0.227165</td>\n",
       "      <td>0.315300</td>\n",
       "      <td>0.904632</td>\n",
       "      <td>00:58</td>\n",
       "    </tr>\n",
       "    <tr>\n",
       "      <td>4</td>\n",
       "      <td>0.187353</td>\n",
       "      <td>0.301992</td>\n",
       "      <td>0.899183</td>\n",
       "      <td>00:58</td>\n",
       "    </tr>\n",
       "    <tr>\n",
       "      <td>5</td>\n",
       "      <td>0.150709</td>\n",
       "      <td>0.330541</td>\n",
       "      <td>0.907357</td>\n",
       "      <td>00:58</td>\n",
       "    </tr>\n",
       "    <tr>\n",
       "      <td>6</td>\n",
       "      <td>0.123609</td>\n",
       "      <td>0.359636</td>\n",
       "      <td>0.907357</td>\n",
       "      <td>00:58</td>\n",
       "    </tr>\n",
       "    <tr>\n",
       "      <td>7</td>\n",
       "      <td>0.099761</td>\n",
       "      <td>0.329225</td>\n",
       "      <td>0.915531</td>\n",
       "      <td>00:59</td>\n",
       "    </tr>\n",
       "    <tr>\n",
       "      <td>8</td>\n",
       "      <td>0.079675</td>\n",
       "      <td>0.336617</td>\n",
       "      <td>0.918256</td>\n",
       "      <td>00:59</td>\n",
       "    </tr>\n",
       "    <tr>\n",
       "      <td>9</td>\n",
       "      <td>0.071486</td>\n",
       "      <td>0.334991</td>\n",
       "      <td>0.918256</td>\n",
       "      <td>00:58</td>\n",
       "    </tr>\n",
       "  </tbody>\n",
       "</table>"
      ],
      "text/plain": [
       "<IPython.core.display.HTML object>"
      ]
     },
     "metadata": {
      "tags": []
     },
     "output_type": "display_data"
    }
   ],
   "source": [
    "learn_class.unfreeze()\n",
    "learn_class.fit_one_cycle(10, slice(1e-3/(2.6**4),1e-2))"
   ]
  },
  {
   "cell_type": "code",
   "execution_count": 36,
   "metadata": {
    "colab": {
     "base_uri": "https://localhost:8080/"
    },
    "executionInfo": {
     "elapsed": 900,
     "status": "ok",
     "timestamp": 1628462617868,
     "user": {
      "displayName": "Muhammad Hamza Chippa",
      "photoUrl": "https://lh3.googleusercontent.com/a-/AOh14GgElx1Cc1a79VpouQssUoFpC3MMPCz34jOCi1zG=s64",
      "userId": "01490394795955800955"
     },
     "user_tz": -300
    },
    "id": "_ZnGHegl5aLS",
    "outputId": "f32478a7-fcc5-4292-cacf-51d1facb0336"
   },
   "outputs": [
    {
     "data": {
      "text/plain": [
       "Path('models/final_model_classifier.pth')"
      ]
     },
     "execution_count": 36,
     "metadata": {
      "tags": []
     },
     "output_type": "execute_result"
    }
   ],
   "source": [
    "learn_class.save('final_model_classifier')"
   ]
  },
  {
   "cell_type": "code",
   "execution_count": 37,
   "metadata": {
    "executionInfo": {
     "elapsed": 353,
     "status": "ok",
     "timestamp": 1628462623568,
     "user": {
      "displayName": "Muhammad Hamza Chippa",
      "photoUrl": "https://lh3.googleusercontent.com/a-/AOh14GgElx1Cc1a79VpouQssUoFpC3MMPCz34jOCi1zG=s64",
      "userId": "01490394795955800955"
     },
     "user_tz": -300
    },
    "id": "6TIoIwD0749H"
   },
   "outputs": [],
   "source": [
    "learn_class.export()"
   ]
  },
  {
   "cell_type": "code",
   "execution_count": 38,
   "metadata": {
    "colab": {
     "base_uri": "https://localhost:8080/",
     "height": 345
    },
    "executionInfo": {
     "elapsed": 5763,
     "status": "ok",
     "timestamp": 1628462666916,
     "user": {
      "displayName": "Muhammad Hamza Chippa",
      "photoUrl": "https://lh3.googleusercontent.com/a-/AOh14GgElx1Cc1a79VpouQssUoFpC3MMPCz34jOCi1zG=s64",
      "userId": "01490394795955800955"
     },
     "user_tz": -300
    },
    "id": "645mm6DV76e_",
    "outputId": "56637c3a-ae0e-4444-fd75-9f1c4dc40a7c"
   },
   "outputs": [
    {
     "name": "stderr",
     "output_type": "stream",
     "text": [
      "/usr/local/lib/python3.7/dist-packages/torch/cuda/amp/grad_scaler.py:115: UserWarning: torch.cuda.amp.GradScaler is enabled, but CUDA is not available.  Disabling.\n",
      "  warnings.warn(\"torch.cuda.amp.GradScaler is enabled, but CUDA is not available.  Disabling.\")\n"
     ]
    },
    {
     "data": {
      "text/html": [],
      "text/plain": [
       "<IPython.core.display.HTML object>"
      ]
     },
     "metadata": {
      "tags": []
     },
     "output_type": "display_data"
    },
    {
     "data": {
      "image/png": "[encoded data removed]",
      "text/plain": [
       "<Figure size 432x288 with 1 Axes>"
      ]
     },
     "metadata": {
      "needs_background": "light",
      "tags": []
     },
     "output_type": "display_data"
    }
   ],
   "source": [
    "interp = ClassificationInterpretation.from_learner(learn_class)\n",
    "interp.plot_confusion_matrix()"
   ]
  },
  {
   "cell_type": "code",
   "execution_count": 39,
   "metadata": {
    "colab": {
     "base_uri": "https://localhost:8080/"
    },
    "executionInfo": {
     "elapsed": 326,
     "status": "ok",
     "timestamp": 1628462708121,
     "user": {
      "displayName": "Muhammad Hamza Chippa",
      "photoUrl": "https://lh3.googleusercontent.com/a-/AOh14GgElx1Cc1a79VpouQssUoFpC3MMPCz34jOCi1zG=s64",
      "userId": "01490394795955800955"
     },
     "user_tz": -300
    },
    "id": "L2z8pjIM8Dv-",
    "outputId": "ace29983-30cd-49ee-cc14-af064337a12f"
   },
   "outputs": [
    {
     "data": {
      "text/plain": [
       "[('politics', 'technology', 11),\n",
       " ('technology', 'sports', 8),\n",
       " ('politics', 'sports', 4),\n",
       " ('technology', 'politics', 4),\n",
       " ('sports', 'technology', 2),\n",
       " ('sports', 'politics', 1)]"
      ]
     },
     "execution_count": 39,
     "metadata": {
      "tags": []
     },
     "output_type": "execute_result"
    }
   ],
   "source": [
    "interp.most_confused()"
   ]
  },
  {
   "cell_type": "code",
   "execution_count": 40,
   "metadata": {
    "colab": {
     "base_uri": "https://localhost:8080/",
     "height": 68
    },
    "executionInfo": {
     "elapsed": 352,
     "status": "ok",
     "timestamp": 1628462720194,
     "user": {
      "displayName": "Muhammad Hamza Chippa",
      "photoUrl": "https://lh3.googleusercontent.com/a-/AOh14GgElx1Cc1a79VpouQssUoFpC3MMPCz34jOCi1zG=s64",
      "userId": "01490394795955800955"
     },
     "user_tz": -300
    },
    "id": "hmyIeZtg8PIZ",
    "outputId": "44cbafc9-9133-4379-8860-aaa31e4fd989"
   },
   "outputs": [
    {
     "name": "stderr",
     "output_type": "stream",
     "text": [
      "/usr/local/lib/python3.7/dist-packages/torch/cuda/amp/grad_scaler.py:115: UserWarning: torch.cuda.amp.GradScaler is enabled, but CUDA is not available.  Disabling.\n",
      "  warnings.warn(\"torch.cuda.amp.GradScaler is enabled, but CUDA is not available.  Disabling.\")\n"
     ]
    },
    {
     "data": {
      "text/html": [],
      "text/plain": [
       "<IPython.core.display.HTML object>"
      ]
     },
     "metadata": {
      "tags": []
     },
     "output_type": "display_data"
    },
    {
     "data": {
      "text/plain": [
       "('technology', tensor(2), tensor([2.9192e-04, 2.7675e-03, 9.9694e-01]))"
      ]
     },
     "execution_count": 40,
     "metadata": {
      "tags": []
     },
     "output_type": "execute_result"
    }
   ],
   "source": [
    "learn_class.predict('Going live in 30 minutes  Facebook:    Youtube:   #LFG #GamblingTwitter #bettingpicks #SportsGambling #sports #sporthotpicks #getpaid #sportswagering'  )"
   ]
  },
  {
   "cell_type": "code",
   "execution_count": 3,
   "metadata": {},
   "outputs": [],
   "source": [
    "import pathlib\n",
    "temp = pathlib.PosixPath\n",
    "pathlib.PosixPath = pathlib.WindowsPath"
   ]
  },
  {
   "cell_type": "code",
   "execution_count": 4,
   "metadata": {},
   "outputs": [],
   "source": [
    "classifier = load_learner('reddit_classifier.pkl')"
   ]
  },
  {
   "cell_type": "code",
   "execution_count": 5,
   "metadata": {},
   "outputs": [],
   "source": [
    "post ='Lionel Messi: Paris St-Germain in talks with Argentine after leaving Barcelona' "
   ]
  },
  {
   "cell_type": "code",
   "execution_count": 6,
   "metadata": {},
   "outputs": [
    {
     "data": {
      "text/html": [],
      "text/plain": [
       "<IPython.core.display.HTML object>"
      ]
     },
     "metadata": {},
     "output_type": "display_data"
    },
    {
     "data": {
      "text/plain": [
       "('sports', tensor(1), tensor([4.7679e-07, 1.0000e+00, 2.7210e-07]))"
      ]
     },
     "execution_count": 6,
     "metadata": {},
     "output_type": "execute_result"
    }
   ],
   "source": [
    "classifier.predict(post)"
   ]
  },
  {
   "cell_type": "code",
   "execution_count": 7,
   "metadata": {},
   "outputs": [
    {
     "data": {
      "text/html": [],
      "text/plain": [
       "<IPython.core.display.HTML object>"
      ]
     },
     "metadata": {},
     "output_type": "display_data"
    },
    {
     "name": "stdout",
     "output_type": "stream",
     "text": [
      "Post belongs to sports category.\n",
      "Probability it's a sports: 0.999999\n"
     ]
    }
   ],
   "source": [
    "what,_,probs =classifier.predict(post)\n",
    "print(f\"Post belongs to {what} category.\")\n",
    "print(f\"Probability it's a {what}: {probs[1].item():.6f}\")"
   ]
  },
  {
   "cell_type": "code",
   "execution_count": null,
   "metadata": {},
   "outputs": [],
   "source": []
  }
 ],
 "metadata": {
  "accelerator": "GPU",
  "colab": {
   "authorship_tag": "ABX9TyNuLqspWAufV/HHja2knzAK",
   "name": "Reddit Text Classification.ipynb",
   "provenance": []
  },
  "kernelspec": {
   "display_name": "Python 3",
   "language": "python",
   "name": "python3"
  },
  "language_info": {
   "codemirror_mode": {
    "name": "ipython",
    "version": 3
   },
   "file_extension": ".py",
   "mimetype": "text/x-python",
   "name": "python",
   "nbconvert_exporter": "python",
   "pygments_lexer": "ipython3",
   "version": "3.8.8"
  }
 },
 "nbformat": 4,
 "nbformat_minor": 1
}
