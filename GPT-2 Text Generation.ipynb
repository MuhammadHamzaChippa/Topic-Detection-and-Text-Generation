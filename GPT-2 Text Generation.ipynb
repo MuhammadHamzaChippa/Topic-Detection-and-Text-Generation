{
 "cells": [
  {
   "cell_type": "code",
   "execution_count": 2,
   "id": "22a67714",
   "metadata": {},
   "outputs": [
    {
     "name": "stdout",
     "output_type": "stream",
     "text": [
      "Requirement already satisfied: transformers in c:\\users\\muhammad hamza\\anaconda3\\lib\\site-packages (4.9.1)\n",
      "Requirement already satisfied: huggingface-hub==0.0.12 in c:\\users\\muhammad hamza\\anaconda3\\lib\\site-packages (from transformers) (0.0.12)\n",
      "Requirement already satisfied: regex!=2019.12.17 in c:\\users\\muhammad hamza\\anaconda3\\lib\\site-packages (from transformers) (2021.4.4)\n",
      "Requirement already satisfied: tokenizers<0.11,>=0.10.1 in c:\\users\\muhammad hamza\\anaconda3\\lib\\site-packages (from transformers) (0.10.3)\n",
      "Requirement already satisfied: packaging in c:\\users\\muhammad hamza\\anaconda3\\lib\\site-packages (from transformers) (20.9)\n",
      "Requirement already satisfied: pyyaml>=5.1 in c:\\users\\muhammad hamza\\anaconda3\\lib\\site-packages (from transformers) (5.4.1)\n",
      "Requirement already satisfied: filelock in c:\\users\\muhammad hamza\\anaconda3\\lib\\site-packages (from transformers) (3.0.12)\n",
      "Requirement already satisfied: requests in c:\\users\\muhammad hamza\\anaconda3\\lib\\site-packages (from transformers) (2.21.0)\n",
      "Requirement already satisfied: tqdm>=4.27 in c:\\users\\muhammad hamza\\anaconda3\\lib\\site-packages (from transformers) (4.31.1)\n",
      "Requirement already satisfied: sacremoses in c:\\users\\muhammad hamza\\anaconda3\\lib\\site-packages (from transformers) (0.0.45)\n",
      "Requirement already satisfied: numpy>=1.17 in c:\\users\\muhammad hamza\\anaconda3\\lib\\site-packages (from transformers) (1.20.1)\n",
      "Requirement already satisfied: typing-extensions in c:\\users\\muhammad hamza\\anaconda3\\lib\\site-packages (from huggingface-hub==0.0.12->transformers) (3.7.4.3)\n",
      "Requirement already satisfied: pyparsing>=2.0.2 in c:\\users\\muhammad hamza\\anaconda3\\lib\\site-packages (from packaging->transformers) (2.4.7)\n",
      "Requirement already satisfied: idna<2.9,>=2.5 in c:\\users\\muhammad hamza\\anaconda3\\lib\\site-packages (from requests->transformers) (2.8)\n",
      "Requirement already satisfied: urllib3<1.25,>=1.21.1 in c:\\users\\muhammad hamza\\anaconda3\\lib\\site-packages (from requests->transformers) (1.24.3)\n",
      "Requirement already satisfied: certifi>=2017.4.17 in c:\\users\\muhammad hamza\\anaconda3\\lib\\site-packages (from requests->transformers) (2020.12.5)\n",
      "Requirement already satisfied: chardet<3.1.0,>=3.0.2 in c:\\users\\muhammad hamza\\anaconda3\\lib\\site-packages (from requests->transformers) (3.0.4)\n",
      "Requirement already satisfied: click in c:\\users\\muhammad hamza\\anaconda3\\lib\\site-packages (from sacremoses->transformers) (7.1.2)\n",
      "Requirement already satisfied: six in c:\\users\\muhammad hamza\\anaconda3\\lib\\site-packages (from sacremoses->transformers) (1.15.0)\n",
      "Requirement already satisfied: joblib in c:\\users\\muhammad hamza\\anaconda3\\lib\\site-packages (from sacremoses->transformers) (1.0.1)\n"
     ]
    }
   ],
   "source": [
    "!pip install transformers"
   ]
  },
  {
   "cell_type": "code",
   "execution_count": 1,
   "id": "62842fe0",
   "metadata": {},
   "outputs": [],
   "source": [
    "import re\n",
    "import pickle"
   ]
  },
  {
   "cell_type": "code",
   "execution_count": 2,
   "id": "6549b51c",
   "metadata": {},
   "outputs": [],
   "source": [
    "import torch\n",
    "from transformers import GPT2LMHeadModel, GPT2Tokenizer\n",
    "\n",
    "# initialize tokenizer and model from pretrained GPT2 model\n",
    "tokenizer = GPT2Tokenizer.from_pretrained('gpt2')\n",
    "model = GPT2LMHeadModel.from_pretrained('gpt2')"
   ]
  },
  {
   "cell_type": "code",
   "execution_count": 3,
   "id": "4ee75760",
   "metadata": {},
   "outputs": [],
   "source": [
    "# dumping pretained tokenizer model in pkl for using it in flask api\n",
    "pickle.dump(tokenizer, open('gpt2_tokenize.pkl','wb') )"
   ]
  },
  {
   "cell_type": "code",
   "execution_count": 4,
   "id": "6748ae73",
   "metadata": {},
   "outputs": [],
   "source": [
    "# dumping pretained language Model model in pkl for using it in flask api\n",
    "pickle.dump(model, open('gpt2_language.pkl','wb') )"
   ]
  },
  {
   "cell_type": "code",
   "execution_count": 14,
   "id": "18f7aa60",
   "metadata": {},
   "outputs": [],
   "source": [
    "sequence ='USA secures the most Olympic Medals, to include gold' "
   ]
  },
  {
   "cell_type": "code",
   "execution_count": 15,
   "id": "97e35513",
   "metadata": {},
   "outputs": [],
   "source": [
    "inputs = tokenizer.encode(sequence, return_tensors='pt')"
   ]
  },
  {
   "cell_type": "code",
   "execution_count": 16,
   "id": "f1d85ade",
   "metadata": {},
   "outputs": [
    {
     "name": "stderr",
     "output_type": "stream",
     "text": [
      "Setting `pad_token_id` to `eos_token_id`:50256 for open-end generation.\n"
     ]
    }
   ],
   "source": [
    "# we pass a maximum output length of 200 tokens\n",
    "outputs = model.generate(inputs, max_length=200, do_sample=True)"
   ]
  },
  {
   "cell_type": "code",
   "execution_count": 17,
   "id": "c4eff8c7",
   "metadata": {},
   "outputs": [
    {
     "data": {
      "text/plain": [
       "tensor([[14053,   792,   942,   262,   749, 11514, 42171,    11,   284,  2291,\n",
       "          3869,   287,   262,   939,    12, 27231,  2030, 10992, 24248,    13,\n",
       "           317,  1218,  3561,    11, 22101,    11,   290,  8465, 18279,   396,\n",
       "           318,  2087,   284,   262,  1074,    13,   198,   198,  1544,  5201,\n",
       "          1596,   400,   422,   262,  1315,   400,    11,   981,   262,  1596,\n",
       "           400,  2888,   468,  5201,  1478,   400,    13,   198,   198,    45,\n",
       "          2434,   262,   749,  4923, 16076,   287,   262,   995,   287,  2211,\n",
       "            11,   978,   261, 10872,   978,  3841,   373,  5169,   379,   262,\n",
       "           886,   286,  2693,   319,  4530,   286,  4641,  1028,   257,  4159,\n",
       "           287,  3576,   338,   311,  1299, 10711,  3250,    13,  2293,   339,\n",
       "          3377,  1115,  2745,   287,   257,  4553,  1644, 10804,    11,   734,\n",
       "         24304,   422,   262,   367,  5188, 12000,   257,  3644,    11, 13224,\n",
       "            11,   257,  3884,  2657,    11,   290,   257, 26346,   290,  5371,\n",
       "           683,   286,   852,   257,  7706,  2888,    13,   198,   198,  2348,\n",
       "          3841,    11,  6073,    11,   468,   655,  5201,   465,   471,    13,\n",
       "            42,    13,  4473,   287,   262,  4492,  4037, 15531,  3078,    13,\n",
       "           198,   198,   818,  2901,    11,   262,  1248,    12,  1941,    12,\n",
       "           727,   471,    13,    42,    13,  1578,  7973,  3710,   373,  5169,\n",
       "           287, 18899,   319, 15123,   286,  5123,   706, 14073,  7482,   284,\n",
       "          3251,   683,  2354,   262,   367,  5188,    13,   679,   373,  5371]])"
      ]
     },
     "execution_count": 17,
     "metadata": {},
     "output_type": "execute_result"
    }
   ],
   "source": [
    "outputs"
   ]
  },
  {
   "cell_type": "code",
   "execution_count": 19,
   "id": "81e552a1",
   "metadata": {},
   "outputs": [],
   "source": [
    "text = tokenizer.decode(outputs[0], skip_special_tokens=True)"
   ]
  },
  {
   "cell_type": "code",
   "execution_count": 20,
   "id": "52fee0dc",
   "metadata": {},
   "outputs": [
    {
     "data": {
      "text/plain": [
       "\"USA secures the most Olympic Medals, to include gold in the 200-meter freestyle relay. A second Gold, bronze, and silver medalist is added to the team.\\n\\nHe finished 17th from the 15th, while the 17th member has finished 14th.\\n\\nNamed the most dangerous athlete in the world in 2013, Alonzo Alford was arrested at the end of September on charges of assault against a minor in London's Sainsbury Park. After he spent three weeks in a separate police custody, two detectives from the HSE seized a computer, laptop, a credit card, and a cellphone and accused him of being a gang member.\\n\\nAlford, 41, has just finished his U.K. trial in the England International Criminal Court.\\n\\nIn July, the 18-year-old U.K. United Nations student was arrested in Birmingham on suspicion of murder after cops attempted to arrest him outside the HSE. He was accused\""
      ]
     },
     "execution_count": 20,
     "metadata": {},
     "output_type": "execute_result"
    }
   ],
   "source": [
    "text"
   ]
  },
  {
   "cell_type": "code",
   "execution_count": 24,
   "id": "c1a94cd3",
   "metadata": {},
   "outputs": [],
   "source": [
    "def clean_text(data):\n",
    "    emoj = re.compile(\"[\"\n",
    "        u\"\\U0001F600-\\U0001F64F\"  # emoticons\n",
    "        u\"\\U0001F300-\\U0001F5FF\"  # symbols & pictographs\n",
    "        u\"\\U0001F680-\\U0001F6FF\"  # transport & map symbols\n",
    "        u\"\\U0001F1E0-\\U0001F1FF\"  # flags (iOS)\n",
    "        u\"\\U00002500-\\U00002BEF\"  # chinese char\n",
    "        u\"\\U00002702-\\U000027B0\"\n",
    "        u\"\\U00002702-\\U000027B0\"\n",
    "        u\"\\U000024C2-\\U0001F251\"\n",
    "        u\"\\U0001f926-\\U0001f937\"\n",
    "        u\"\\U00010000-\\U0010ffff\"\n",
    "        u\"\\u2640-\\u2642\" \n",
    "        u\"\\u2600-\\u2B55\"\n",
    "        u\"\\u200d\"\n",
    "        u\"\\u23cf\"\n",
    "        u\"\\u23e9\"\n",
    "        u\"\\u231a\"\n",
    "        u\"\\ufe0f\"  # dingbats\n",
    "        u\"\\u3030\"\n",
    "                      \"]+\", re.UNICODE)\n",
    "    return re.sub(emoj, '', data)"
   ]
  },
  {
   "cell_type": "code",
   "execution_count": 25,
   "id": "689a3722",
   "metadata": {},
   "outputs": [],
   "source": [
    "clean_text = clean_text(text)"
   ]
  },
  {
   "cell_type": "code",
   "execution_count": 27,
   "id": "cc51df7a",
   "metadata": {},
   "outputs": [],
   "source": [
    "clean_text = clean_text.replace(\"\\n\", \"\")"
   ]
  },
  {
   "cell_type": "code",
   "execution_count": 28,
   "id": "9554a05e",
   "metadata": {},
   "outputs": [
    {
     "data": {
      "text/plain": [
       "\"USA secures the most Olympic Medals, to include gold in the 200-meter freestyle relay. A second Gold, bronze, and silver medalist is added to the team.He finished 17th from the 15th, while the 17th member has finished 14th.Named the most dangerous athlete in the world in 2013, Alonzo Alford was arrested at the end of September on charges of assault against a minor in London's Sainsbury Park. After he spent three weeks in a separate police custody, two detectives from the HSE seized a computer, laptop, a credit card, and a cellphone and accused him of being a gang member.Alford, 41, has just finished his U.K. trial in the England International Criminal Court.In July, the 18-year-old U.K. United Nations student was arrested in Birmingham on suspicion of murder after cops attempted to arrest him outside the HSE. He was accused\""
      ]
     },
     "execution_count": 28,
     "metadata": {},
     "output_type": "execute_result"
    }
   ],
   "source": [
    "clean_text"
   ]
  },
  {
   "cell_type": "code",
   "execution_count": null,
   "id": "d4f68ada",
   "metadata": {},
   "outputs": [],
   "source": []
  }
 ],
 "metadata": {
  "kernelspec": {
   "display_name": "Python 3",
   "language": "python",
   "name": "python3"
  },
  "language_info": {
   "codemirror_mode": {
    "name": "ipython",
    "version": 3
   },
   "file_extension": ".py",
   "mimetype": "text/x-python",
   "name": "python",
   "nbconvert_exporter": "python",
   "pygments_lexer": "ipython3",
   "version": "3.8.8"
  }
 },
 "nbformat": 4,
 "nbformat_minor": 5
}
